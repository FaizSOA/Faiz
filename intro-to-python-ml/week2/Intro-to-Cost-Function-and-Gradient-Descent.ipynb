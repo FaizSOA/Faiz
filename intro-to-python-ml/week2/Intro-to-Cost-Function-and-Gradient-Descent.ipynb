{
 "cells": [
  {
   "cell_type": "markdown",
   "metadata": {},
   "source": [
    "# Cost Function and Gradient Descent"
   ]
  },
  {
   "cell_type": "markdown",
   "metadata": {},
   "source": [
    "### Consider the following notations:\n",
    "\n",
    "- $m$ = no. of training examples\n",
    "- $n$ = no. of features corresponding to each training example\n",
    "- $x^i$ = input(feature) of the $i^{th}$ training example\n",
    "- $x^i_j$ = value of the feature $j$ in the $i^{th}$ training example\n",
    "\n",
    "We will stick to this notation (and others as we discuss further in this notebook) throughout all our future discussion"
   ]
  },
  {
   "cell_type": "markdown",
   "metadata": {},
   "source": [
    "Now, for understanding cost function and its role, consider a linear regression model with an input vector $x^i = (X_1 , X_2)$, and a real-valued output $y$. The linear regression model has the form:\n",
    "\n",
    "$$f_\\theta(X) = \\theta_0 + \\theta_1X_1 + \\theta_2X_2$$\n",
    "\n",
    "Here:\n",
    "- $[\\theta_1, \\theta_2]$ are called **model weights** (generally) OR **coefficients** (in linear regression)\n",
    "- $\\theta_0$ is called **bias** (generally) OR **intercept** (in linear regression)\n",
    "\n",
    "We consider a set of training data $(x_1 , y_1 ) \\dots (x_m , y_m )$ from which to estimate the parameters $\\theta$. Here m is the no of training examples we have. \n",
    "\n",
    "The Linear model can be plotted as:"
   ]
  },
  {
   "cell_type": "markdown",
   "metadata": {},
   "source": [
    "<center><img src=\"../images/lr.png\" width=\"400\"/></center>"
   ]
  },
  {
   "cell_type": "markdown",
   "metadata": {},
   "source": [
    "## Cost function"
   ]
  },
  {
   "cell_type": "markdown",
   "metadata": {},
   "source": [
    "A cost function is a measure of how wrong the model is in terms of its ability to estimate the relationship between X (independent variables) and y (dependent variable).\n",
    "\n",
    "The function that defines the difference between your actual value ($y_t$) and the predicted value ($y_p$). \n",
    "\n",
    "$$\n",
    "y_t = y_p + e\n",
    "$$\n",
    "\n",
    "In case of Linear regression with $y_p = f_\\theta(X) = \\theta_0 + \\theta_1X_1 + \\theta_2X_2$\n",
    "\n",
    "The error can be represented as:\n",
    "\n",
    "$$\n",
    "error = y_t - y_p = y_t - (\\theta_0 + \\theta_1X_1 + \\theta_2X_2)\n",
    "$$"
   ]
  },
  {
   "cell_type": "markdown",
   "metadata": {},
   "source": [
    "Graphically the errors can be represented as: \n",
    "\n",
    "<center><img src=\"../images/error.png\" width=\"400\"/></center>"
   ]
  },
  {
   "cell_type": "markdown",
   "metadata": {},
   "source": [
    "We have different kinds of error like- total error, mean error, mean squared error etc.\n",
    "\n",
    "Total error: Summation of the absolute difference between predicted and actual value for all the data points. Mathematically, this is\n",
    "\n",
    "<img src=\"../images/total_err.png\">\n",
    "\n",
    "Mean error: Total error / number of data points. Mathematically, this is\n",
    "\n",
    "<img src=\"../images/mean_err.png\">\n",
    "\n",
    "Mean squared error: Summation of the square of absolute difference / number of data points. Mathematically, this is\n",
    "\n",
    "<img src=\"../images/mean_sq_err.png\">"
   ]
  },
  {
   "cell_type": "markdown",
   "metadata": {},
   "source": [
    "#### The cost function is a function of the errors , and in turn the function of the parameters. The same can be represenred as:\n",
    "\n",
    "cost function = $ J_\\theta = f(\\theta_i) $"
   ]
  },
  {
   "cell_type": "markdown",
   "metadata": {},
   "source": [
    "### Some types of Cost function"
   ]
  },
  {
   "cell_type": "markdown",
   "metadata": {},
   "source": [
    "#### residual sum of squares:\n",
    "$$J_\\theta = \\sum_{i=1}^me_i^2 = \\sum_{i=1}^m(y_t - \\theta_0 - \\theta_1X_1 - \\theta_2X_2)^2$$"
   ]
  },
  {
   "cell_type": "markdown",
   "metadata": {},
   "source": [
    "#### Mean Square Errors:\n",
    "$$J_\\theta =  \\frac{1}{m}\\sum_{i=1}^me_i^2 = \\frac{1}{2m}\\sum_{i=1}^m(y_t - \\theta_0 - \\theta_1X_1 - \\theta_2X_2)^2$$"
   ]
  },
  {
   "cell_type": "markdown",
   "metadata": {},
   "source": [
    "The goal of any model training in machine learning is to **minimise the associated cost function**: $ minimise \\ J_\\theta $"
   ]
  },
  {
   "cell_type": "markdown",
   "metadata": {},
   "source": [
    "# Gradient descent"
   ]
  },
  {
   "cell_type": "markdown",
   "metadata": {},
   "source": [
    "##### Before jumping into \"Gradient Descent\", first lets understand what is \"Gradient\" : \n",
    "\n",
    " - A gradient is an extension of partial derivatives. Gradients take the partial derivatives of each variable in a function and then places each partial derivative in a vector. The gradient value is zero at a local maximum or local minimum (because there is no single direction of increase) -  also referred to as **convergence**.\n",
    " \n",
    " \n",
    " - In mathematics, the **gradient is a multi-variable generalization of the derivative**. While a derivative can be defined on functions of a single variable, for functions of several variables, the gradient takes its place. The gradient is a vector-valued function, as opposed to a derivative, which is scalar-valued.\n",
    " \n",
    " \n",
    " - **Gradient** of a function (at any given point) gives the direction of the **steepest ascent**, i.e. the direction to move if you want to increase the function. "
   ]
  },
  {
   "cell_type": "markdown",
   "metadata": {},
   "source": [
    "##### Gradient Descent is an **optimisation algorithm** that attempts to find the **local or global minima** of a **convex** function by using its **partial derivatives**. In ML it is used to __optimise the cost function__ (reduce our total error). "
   ]
  },
  {
   "cell_type": "markdown",
   "metadata": {},
   "source": [
    "A convex function in its simplest form have the useful property that local minima is the global minima.\n",
    "<center><img src=\"../images/convexity.png\" width=\"500\"/></center>\n",
    "\n",
    "The idea behind \"Gradient Descent\" is very simple — to reach the global optimum of a convex function from any point, we need to move in the direction **opposite** to that of greatest increase of the function. As the function is convex, this strategy will always take us to the global optimum. \n",
    "\n",
    "<center><img src=\"../images/gd1.png\" width=\"400\"/></center>"
   ]
  },
  {
   "cell_type": "markdown",
   "metadata": {},
   "source": [
    "Let us now understand this in terms of the cost function $J_\\theta$\n",
    "\n",
    "Now, we know that the _direction_ of **greatest increase of any function** is determined by taking the partial derivatives of the function with respect to every variable (aka the gradient). For example, let us say we wish to optimise a convex function $J(\\theta)$, where $\\theta = (\\theta_1, \\theta_2, \\ldots, \\theta_n)^T$. Let us say, we start at a point $s \\in \\mathbb{R}^d$. Then, the direction of greatest increase of $J$ at $s$ is given by \n",
    "\n",
    "$$\n",
    "\\nabla J(s) = \\left(\\frac{\\partial J(s)}{\\partial \\theta_1}, \\frac{\\partial J(s)}{\\partial \\theta_2}, \\ldots ,\\frac{\\partial J(s)}{\\partial \\theta_n} \\right)^T.\n",
    "$$"
   ]
  },
  {
   "cell_type": "markdown",
   "metadata": {},
   "source": [
    "Since we want to **decrease the function**, we take the **negative gradient**. The length of the gradient function is an indication of how step the slope is. \n",
    " \n",
    "With this derivative, we design an update rule, which asks us to move in the direction opposite to the direction of greatest increase. By repeatedly applying this rule, we hope to reach the global minimum. We hence move to $t$, which is given by\n",
    "\n",
    "$$\n",
    "t = s - \\gamma \\nabla J(s),\n",
    "$$\n",
    "where $\\gamma$ is a parameter called the *learning rate*."
   ]
  },
  {
   "cell_type": "code",
   "execution_count": 33,
   "metadata": {},
   "outputs": [
    {
     "data": {
      "image/jpeg": "[encoded data removed]",
      "text/html": [
       "\n",
       "        <iframe\n",
       "            width=\"1000\"\n",
       "            height=\"500\"\n",
       "            src=\"https://www.youtube.com/embed/vWFjqgb-ylQ\"\n",
       "            frameborder=\"0\"\n",
       "            allowfullscreen\n",
       "        ></iframe>\n",
       "        "
      ],
      "text/plain": [
       "<IPython.lib.display.YouTubeVideo at 0x11c0d0eb8>"
      ]
     },
     "execution_count": 33,
     "metadata": {},
     "output_type": "execute_result"
    }
   ],
   "source": [
    "from IPython.display import YouTubeVideo\n",
    "\n",
    "#https://www.youtube.com/watch?v=vWFjqgb-ylQ\n",
    "YouTubeVideo(\"vWFjqgb-ylQ\", width=1000, height=500)"
   ]
  },
  {
   "cell_type": "markdown",
   "metadata": {},
   "source": [
    "#### Gradient with level curves\n",
    "![Gradient descent on a 2D convex function](../images/gd.png)"
   ]
  },
  {
   "cell_type": "markdown",
   "metadata": {},
   "source": [
    "## Practical Example"
   ]
  },
  {
   "cell_type": "markdown",
   "metadata": {},
   "source": [
    "Consider a Liner regression problem, to find the equation of the straight line $f_\\theta(x) = \\theta_0 + \\theta_1X_1 + \\theta_2X_2$ that best fits our data points. \n",
    "\n",
    "First lets create dummy data around this model:\n",
    "- m = 50\n",
    "- n = 2"
   ]
  },
  {
   "cell_type": "code",
   "execution_count": 11,
   "metadata": {},
   "outputs": [],
   "source": [
    "import numpy as np\n",
    "import matplotlib.pyplot as plt"
   ]
  },
  {
   "cell_type": "code",
   "execution_count": 12,
   "metadata": {},
   "outputs": [
    {
     "data": {
      "text/plain": [
       "((50,), (50,))"
      ]
     },
     "execution_count": 12,
     "metadata": {},
     "output_type": "execute_result"
    }
   ],
   "source": [
    "feature_1=np.random.randint(low=1,high=20,size=(50,))\n",
    "feature_2=np.random.randint(low=1,high=20,size=(50,)) \n",
    "\n",
    "feature_1.shape, feature_2.shape"
   ]
  },
  {
   "cell_type": "code",
   "execution_count": 13,
   "metadata": {},
   "outputs": [
    {
     "data": {
      "text/plain": [
       "array([[ 1, 13, 15],\n",
       "       [ 1, 14,  9],\n",
       "       [ 1, 15, 15]])"
      ]
     },
     "execution_count": 13,
     "metadata": {},
     "output_type": "execute_result"
    }
   ],
   "source": [
    "x1 = np.array(feature_1).reshape(50,1)\n",
    "x0 = np.ones_like(feature_1).reshape(50,1)\n",
    "x2 = np.array(feature_2).reshape(50,1)\n",
    "\n",
    "x = np.hstack((x0,x1,x2))\n",
    "x[:3,:]"
   ]
  },
  {
   "cell_type": "code",
   "execution_count": 14,
   "metadata": {},
   "outputs": [
    {
     "name": "stdout",
     "output_type": "stream",
     "text": [
      "(50,)\n"
     ]
    },
    {
     "data": {
      "text/plain": [
       "array([-30.56676509,  -4.59856751, -26.17680948])"
      ]
     },
     "execution_count": 14,
     "metadata": {},
     "output_type": "execute_result"
    }
   ],
   "source": [
    "y_true=3+2*x[:,1]-4*x[:,2]+np.random.random((50,))\n",
    "print(y_true.shape)\n",
    "y_true[:3]"
   ]
  },
  {
   "cell_type": "code",
   "execution_count": 15,
   "metadata": {},
   "outputs": [
    {
     "data": {
      "image/png": "[encoded data removed]",
      "text/plain": [
       "<Figure size 432x288 with 1 Axes>"
      ]
     },
     "metadata": {
      "needs_background": "light"
     },
     "output_type": "display_data"
    }
   ],
   "source": [
    "plt.scatter(x[:,1], y_true, marker='o', c='b')\n",
    "plt.show()"
   ]
  },
  {
   "cell_type": "code",
   "execution_count": 16,
   "metadata": {},
   "outputs": [
    {
     "data": {
      "image/png": "[encoded data removed]",
      "text/plain": [
       "<Figure size 432x288 with 1 Axes>"
      ]
     },
     "metadata": {
      "needs_background": "light"
     },
     "output_type": "display_data"
    }
   ],
   "source": [
    "plt.scatter(x[:,2], y_true, marker='o', c='b')\n",
    "plt.show()"
   ]
  },
  {
   "cell_type": "code",
   "execution_count": 17,
   "metadata": {},
   "outputs": [
    {
     "data": {
      "text/plain": [
       "50"
      ]
     },
     "execution_count": 17,
     "metadata": {},
     "output_type": "execute_result"
    }
   ],
   "source": [
    "m = len(x)\n",
    "m"
   ]
  },
  {
   "cell_type": "markdown",
   "metadata": {},
   "source": [
    "The function that we are trying to minimize in this case is:\n",
    "\n",
    "$J(\\theta_0,\\theta_1, \\theta_2) = {1 \\over 2m} \\sum\\limits_{i=1}^m (f_\\theta(x^i)-y^i)^2$\n",
    "\n",
    "In this case, our gradient will be defined in three dimensions as:\n",
    "\n",
    "$\\frac{\\partial}{\\partial \\theta_0} J(\\theta_0,\\theta_1, \\theta_2) = \\frac{1}{m}  \\sum\\limits_{i=1}^m (f_\\theta(x^i)-y^i)$\n",
    "\n",
    "$\\frac{\\partial}{\\partial \\theta_1} J(\\theta_0,\\theta_1, \\theta_2) = \\frac{1}{m}  \\sum\\limits_{i=1}^m ((f_\\theta(x^i)-y^i) \\cdot x^i_1)$\n",
    "\n",
    "$\\frac{\\partial}{\\partial \\theta_2} J(\\theta_0,\\theta_1, \\theta_2) = \\frac{1}{m}  \\sum\\limits_{i=1}^m ((f_\\theta(x^i)-y^i) \\cdot x^i_2)$\n",
    "\n",
    "\n",
    "The weight matrix will be updated following the equation:\n",
    "\n",
    "$w_{t+1} = w_t - \\gamma \\nabla J(s)$\n",
    "\n",
    "Below, we set up our function for f, J and the gradient:"
   ]
  },
  {
   "cell_type": "code",
   "execution_count": 18,
   "metadata": {},
   "outputs": [],
   "source": [
    "f = lambda theta_0,theta_1, theta_2, x: theta_0 + theta_1*x[1] + theta_2*x[2]"
   ]
  },
  {
   "cell_type": "code",
   "execution_count": 19,
   "metadata": {},
   "outputs": [],
   "source": [
    "def J(x,y,m,theta_0,theta_1, theta_2):\n",
    "    \n",
    "    returnValue = 0\n",
    "    \n",
    "    for i in range(m):        \n",
    "        returnValue += (f(theta_0,theta_1, theta_2, x[i])-y[i])**2\n",
    "        \n",
    "    returnValue = returnValue/(2*m)\n",
    "    \n",
    "    return returnValue"
   ]
  },
  {
   "cell_type": "code",
   "execution_count": 20,
   "metadata": {},
   "outputs": [],
   "source": [
    "def grad_J(x,y,m,theta_0,theta_1, theta_2):\n",
    "    \n",
    "    returnValue = np.array([0.,0.,0.]) #initalise all the parameter values\n",
    "    \n",
    "    for i in range(m):\n",
    "        returnValue[0] += (f(theta_0,theta_1, theta_2, x[i])-y[i])\n",
    "        returnValue[1] += (f(theta_0,theta_1, theta_2, x[i])-y[i])*x[:,1][i]\n",
    "        returnValue[2] += (f(theta_0,theta_1, theta_2, x[i])-y[i])*x[:,2][i]\n",
    "        \n",
    "    returnValue = returnValue/(m)\n",
    "    \n",
    "    return returnValue"
   ]
  },
  {
   "cell_type": "markdown",
   "metadata": {},
   "source": [
    "And we run our gradient descent algorithm (without adaptive step sizes in this example):"
   ]
  },
  {
   "cell_type": "code",
   "execution_count": 24,
   "metadata": {},
   "outputs": [
    {
     "name": "stdout",
     "output_type": "stream",
     "text": [
      "steps:0, cost:503.004, neg_gradient:[ -16.8055078  -126.86575963 -329.80597402] weights:0.0 0.0 0.0\n",
      "steps:500, cost:0.772, neg_gradient:[ 0.42967699 -0.02074545 -0.01451574] weights:0.196 2.162 -3.887\n",
      "steps:1000, cost:0.685, neg_gradient:[ 0.40354682 -0.01948894 -0.01362799] weights:0.404 2.152 -3.894\n",
      "steps:1500, cost:0.608, neg_gradient:[ 0.3790058  -0.01830375 -0.01279923] weights:0.599 2.142 -3.9\n",
      "steps:2000, cost:0.54, neg_gradient:[ 0.35595719 -0.01719064 -0.01202087] weights:0.783 2.133 -3.907\n",
      "steps:2500, cost:0.481, neg_gradient:[ 0.33431025 -0.01614522 -0.01128984] weights:0.956 2.125 -3.913\n",
      "steps:3000, cost:0.428, neg_gradient:[ 0.31397973 -0.01516337 -0.01060327] weights:1.118 2.117 -3.918\n",
      "steps:3500, cost:0.381, neg_gradient:[ 0.29488558 -0.01424124 -0.00995845] weights:1.27 2.11 -3.923\n",
      "steps:4000, cost:0.34, neg_gradient:[ 0.2769526  -0.01337518 -0.00935284] weights:1.413 2.103 -3.928\n",
      "steps:4500, cost:0.304, neg_gradient:[ 0.26011019 -0.01256179 -0.00878406] weights:1.547 2.096 -3.932\n",
      "steps:5000, cost:0.272, neg_gradient:[ 0.24429203 -0.01179787 -0.00824987] weights:1.673 2.09 -3.937\n",
      "steps:5500, cost:0.244, neg_gradient:[ 0.22943581 -0.0110804  -0.00774817] weights:1.792 2.085 -3.941\n",
      "steps:6000, cost:0.219, neg_gradient:[ 0.21548306 -0.01040656 -0.00727698] weights:1.903 2.079 -3.944\n",
      "steps:6500, cost:0.198, neg_gradient:[ 0.20237882 -0.00977371 -0.00683444] weights:2.007 2.074 -3.948\n",
      "steps:7000, cost:0.178, neg_gradient:[ 0.19007149 -0.00917933 -0.00641882] weights:2.105 2.069 -3.951\n",
      "steps:7500, cost:0.161, neg_gradient:[ 0.17851261 -0.00862111 -0.00602847] weights:2.197 2.065 -3.954\n",
      "steps:8000, cost:0.146, neg_gradient:[ 0.16765666 -0.00809683 -0.00566186] weights:2.284 2.061 -3.957\n",
      "steps:8500, cost:0.133, neg_gradient:[ 0.1574609  -0.00760443 -0.00531754] weights:2.365 2.057 -3.96\n",
      "steps:9000, cost:0.121, neg_gradient:[ 0.14788518 -0.00714198 -0.00499416] weights:2.441 2.053 -3.963\n",
      "steps:9500, cost:0.111, neg_gradient:[ 0.13889179 -0.00670766 -0.00469045] weights:2.513 2.05 -3.965\n",
      "steps:10000, cost:0.102, neg_gradient:[ 0.13044532 -0.00629974 -0.00440521] weights:2.58 2.047 -3.967\n",
      "steps:10500, cost:0.094, neg_gradient:[ 0.1225125  -0.00591663 -0.00413731] weights:2.644 2.043 -3.97\n",
      "steps:11000, cost:0.087, neg_gradient:[ 0.11506211 -0.00555682 -0.00388571] weights:2.703 2.041 -3.972\n",
      "steps:11500, cost:0.08, neg_gradient:[ 0.1080648  -0.00521889 -0.00364941] weights:2.759 2.038 -3.973\n",
      "steps:12000, cost:0.075, neg_gradient:[ 0.10149302 -0.00490152 -0.00342747] weights:2.811 2.035 -3.975\n",
      "steps:12500, cost:0.07, neg_gradient:[ 0.09532089 -0.00460344 -0.00321904] weights:2.86 2.033 -3.977\n",
      "steps:13000, cost:0.066, neg_gradient:[ 0.08952411 -0.00432349 -0.00302328] weights:2.907 2.031 -3.978\n",
      "steps:13500, cost:0.062, neg_gradient:[ 0.08407985 -0.00406056 -0.00283942] weights:2.95 2.029 -3.98\n",
      "steps:14000, cost:0.059, neg_gradient:[ 0.07896667 -0.00381363 -0.00266675] weights:2.991 2.027 -3.981\n",
      "steps:14500, cost:0.056, neg_gradient:[ 0.07416445 -0.00358171 -0.00250457] weights:3.029 2.025 -3.983\n",
      "steps:15000, cost:0.053, neg_gradient:[ 0.06965426 -0.00336389 -0.00235226] weights:3.065 2.023 -3.984\n",
      "steps:15500, cost:0.051, neg_gradient:[ 0.06541835 -0.00315932 -0.00220921] weights:3.099 2.022 -3.985\n",
      "steps:16000, cost:0.049, neg_gradient:[ 0.06144005 -0.00296719 -0.00207486] weights:3.13 2.02 -3.986\n",
      "steps:16500, cost:0.047, neg_gradient:[ 0.05770367 -0.00278675 -0.00194868] weights:3.16 2.019 -3.987\n",
      "steps:17000, cost:0.046, neg_gradient:[ 0.05419452 -0.00261728 -0.00183018] weights:3.188 2.017 -3.988\n",
      "steps:17500, cost:0.044, neg_gradient:[ 0.05089877 -0.00245811 -0.00171888] weights:3.214 2.016 -3.989\n",
      "steps:18000, cost:0.043, neg_gradient:[ 0.04780345 -0.00230863 -0.00161435] weights:3.239 2.015 -3.99\n",
      "steps:18500, cost:0.042, neg_gradient:[ 0.04489636 -0.00216823 -0.00151617] weights:3.262 2.014 -3.99\n",
      "steps:19000, cost:0.041, neg_gradient:[ 0.04216606 -0.00203637 -0.00142397] weights:3.284 2.013 -3.991\n",
      "steps:19500, cost:0.04, neg_gradient:[ 0.0396018  -0.00191253 -0.00133737] weights:3.304 2.012 -3.992\n",
      "\n",
      "Local minimum occurs where:\n",
      "theta_0 = 3.323644083387709\n",
      "theta_1 = 2.0106467584180643\n",
      "theta_2 = -3.9924730366236916\n",
      "This took 20000 steps to converge\n"
     ]
    }
   ],
   "source": [
    "w=np.zeros(x.shape[1]) #weight matrix\n",
    "n_k = 0.001 # learning rate\n",
    "#s_k = float(\"inf\")\n",
    "s_k = np.array([float(\"inf\"),float(\"inf\"),float(\"inf\")])\n",
    "\n",
    "num_steps = 20000\n",
    "for i in range(num_steps):\n",
    "    s_k = -grad_J(x,y_true,m,w[0],w[1], w[2])\n",
    "\n",
    "    if i%500==0:\n",
    "        cost = J(x,y_true,m,w[0],w[1], w[2])\n",
    "        print(\"steps:{}, cost:{}, neg_gradient:{} weights:{} {} {}\".format(i, round(cost,3), s_k, round(w[0],3),\n",
    "                                                                           round(w[1],3), round(w[2],3)))\n",
    "        \n",
    "    w = w + n_k * s_k\n",
    "\n",
    "print(\"\\nLocal minimum occurs where:\")\n",
    "print(\"theta_0 =\", w[0])\n",
    "print(\"theta_1 =\", w[1])\n",
    "print(\"theta_2 =\", w[2])\n",
    "print(\"This took\",num_steps,\"steps to converge\")"
   ]
  },
  {
   "cell_type": "markdown",
   "metadata": {},
   "source": [
    "For comparison, let's see the actual values for $\\theta_0$, $\\theta_1$ and $\\theta_2$:"
   ]
  },
  {
   "cell_type": "code",
   "execution_count": 25,
   "metadata": {},
   "outputs": [
    {
     "name": "stdout",
     "output_type": "stream",
     "text": [
      "Actual values for theta are:\n",
      "theta_0 = 3\n",
      "theta_1 = 2\n",
      "theta_2 = -4\n"
     ]
    }
   ],
   "source": [
    "print(\"Actual values for theta are:\")\n",
    "print(\"theta_0 =\", 3)\n",
    "print(\"theta_1 =\", 2)\n",
    "print(\"theta_2 =\", -4)"
   ]
  },
  {
   "cell_type": "markdown",
   "metadata": {},
   "source": [
    "So we see that our values are relatively close to the actual values (even though our method was pretty slow)."
   ]
  },
  {
   "cell_type": "markdown",
   "metadata": {},
   "source": [
    "Notice that in the method above we need to calculate the gradient over all the m training samples, in every step of our algorithm. With the dummy dataset, this is not a big deal since there are only 50 data points. But imagine that we had 10 million data points. If this were the case, it would certainly make the method above far less efficient.\n",
    "\n",
    "In machine learning, the algorithm above is often called <b>batch gradient descent</b> (each step of gradient descent uses all the training examples) to contrast it with <b>mini-batch gradient descent</b> (which we will not go into here) and <b>stochastic gradient descent</b>."
   ]
  },
  {
   "cell_type": "markdown",
   "metadata": {},
   "source": [
    "### Stochastic gradient descent"
   ]
  },
  {
   "cell_type": "markdown",
   "metadata": {},
   "source": [
    "As we said above, in batch gradient descent, we must look at every example in the entire training set on every step. This can be quite slow if the training set is sufficiently large. In <b>stochastic gradient descent</b>, we update our values after looking at <i>each</i> item in the training set, so that we can start making progress right away. Recall the linear regression example above. In that example, we calculated the gradient for each of the three theta values as follows:\n",
    "\n",
    "\n",
    "$\\frac{\\partial}{\\partial \\theta_0} J(\\theta_0,\\theta_1, \\theta_2) = \\frac{1}{m}  \\sum\\limits_{i=1}^m (f_\\theta(x^i)-y^i)$\n",
    "\n",
    "$\\frac{\\partial}{\\partial \\theta_1} J(\\theta_0,\\theta_1, \\theta_2) = \\frac{1}{m}  \\sum\\limits_{i=1}^m ((f_\\theta(x^i)-y^i) \\cdot x^i_1)$\n",
    "\n",
    "$\\frac{\\partial}{\\partial \\theta_2} J(\\theta_0,\\theta_1, \\theta_2) = \\frac{1}{m}  \\sum\\limits_{i=1}^m ((f_\\theta(x^i)-y^i) \\cdot x^i_2)$\n",
    "\n",
    "Where $f_\\theta(x) = \\theta_0 + \\theta_1X_1 + \\theta_2X_2$\n",
    "\n",
    "Then we followed this algorithm (where $\\alpha$ was a non-adapting stepsize):\n",
    "\n",
    "&nbsp;&nbsp;&nbsp; 1: &nbsp; Choose initial guess $w_0$ <br>\n",
    "&nbsp;&nbsp;&nbsp;    2: &nbsp; <b>for</b> k = 0, 1, 2, ... <b>do</b> <br>\n",
    "&nbsp;&nbsp;&nbsp;    3:   &nbsp;&nbsp;&nbsp;&nbsp;&nbsp; $s_k$ = -$\\nabla J(x_k)$ <br>\n",
    "&nbsp;&nbsp;&nbsp;    4:   &nbsp;&nbsp;&nbsp;&nbsp;&nbsp; $w_{k+1} = w_k + \\alpha s_k$ <br>\n",
    "&nbsp;&nbsp;&nbsp;    5: &nbsp;  <b>end for</b>\n",
    "\n",
    "When the sample data had 50 data points as in the example above, calculating the gradient was not very costly. But for very large data sets, this would not be the case. So instead, we consider a stochastic gradient descent algorithm for simple linear regression such as the following, where m is the size of the data set:\n",
    "\n",
    "&nbsp;&nbsp;&nbsp; 1: &nbsp; Randomly shuffle the data set <br>\n",
    "&nbsp;&nbsp;&nbsp;    2: &nbsp; <b>for</b> k = 0, 1, 2, ... <b>do</b> <br>\n",
    "&nbsp;&nbsp;&nbsp;    3: &nbsp;&nbsp;&nbsp;&nbsp;&nbsp; <b>for</b> i = 1 to m <b>do</b> <br>\n",
    "&nbsp;&nbsp;&nbsp;    4:   &nbsp;&nbsp;&nbsp;&nbsp;&nbsp;&nbsp;&nbsp;&nbsp;&nbsp;&nbsp; $\\begin{bmatrix}\n",
    " \\theta_{1} \\\\ \n",
    " \\theta_2 \\\\ \n",
    " \\theta_3 \\\\ \n",
    " \\end{bmatrix}=\\begin{bmatrix}\n",
    " \\theta_1 \\\\ \n",
    " \\theta_2 \\\\\n",
    " \\theta_3 \\\\ \n",
    " \\end{bmatrix}-\\alpha\\begin{bmatrix}\n",
    " 2(f_\\theta(x^i)-y^i) \\\\ \n",
    " 2x^i_j(f_\\theta(x^i)-y^i) \\\\ \n",
    " 2x^i_j(f_\\theta(x^i)-y^i) \\\\ \n",
    " \\end{bmatrix}$ <br>\n",
    "&nbsp;&nbsp;&nbsp;    5: &nbsp;&nbsp;&nbsp;&nbsp;&nbsp; <b>end for</b> <br> \n",
    "&nbsp;&nbsp;&nbsp;    6: &nbsp;  <b>end for</b>\n",
    "\n",
    "The update rule for weights goes as:\n",
    "$w_{t+1} = w_{t} - \\eta (y_{i} - \\hat{y}) x_{i}$\n",
    "\n",
    "Typically, with stochastic gradient descent, you will run through the entire data set 1 to 10 times (see value for k in line 2 of the pseudocode above), depending on how fast the data is converging and how large the data set is.\n",
    "\n",
    "With batch gradient descent, we must go through the entire data set before we make any progress. With this algorithm though, we can make progress right away and continue to make progress as we go through the data set. Therefore, stochastic gradient descent is often preferred when dealing with large data sets.\n",
    "\n",
    "Unlike gradient descent, stochastic gradient descent will tend to oscillate <i>near</i> a minimum value rather than continuously getting closer. It may never actually converge to the minimum though. One way around this is to slowly decrease the step size $\\alpha$ as the algorithm runs. However, this is less common than using a fixed $\\alpha$.\n",
    "\n",
    "Let's look at above example again, but this time with stochastic gradient descent for linear regression."
   ]
  },
  {
   "cell_type": "code",
   "execution_count": 26,
   "metadata": {},
   "outputs": [],
   "source": [
    "feature_1=np.random.randint(low=1,high=20,size=(50,))\n",
    "feature_2=np.random.randint(low=1,high=20,size=(50,)) \n",
    "\n",
    "x1 = np.array(feature_1).reshape(50,1)\n",
    "x0 = np.ones_like(feature_1).reshape(50,1)\n",
    "x2 = np.array(feature_2).reshape(50,1)\n",
    "\n",
    "x = np.hstack((x0,x1,x2))\n",
    "\n",
    "y =3+2*x[:,1]-4*x[:,2]+np.random.random((50,))\n",
    "\n",
    "m = len(y)"
   ]
  },
  {
   "cell_type": "markdown",
   "metadata": {},
   "source": [
    "Now we'll setup our h function and our cost function, which we will use to check how the value is improving."
   ]
  },
  {
   "cell_type": "code",
   "execution_count": 18,
   "metadata": {},
   "outputs": [],
   "source": [
    "f = lambda theta_0,theta_1, theta_2, x: theta_0 + theta_1*x[1] + theta_2*x[2]\n",
    "cost = lambda theta_0,theta_1, theta_2, x_i, y_i: 0.5*(f(theta_0,theta_1,theta_2,x_i)-y_i)**2"
   ]
  },
  {
   "cell_type": "markdown",
   "metadata": {},
   "source": [
    "Now we'll run our stochastic gradient descent algorithm. To see it's progress, we'll take a cost measurement at every step. We will run through the entire list 1000 times here:"
   ]
  },
  {
   "cell_type": "code",
   "execution_count": 32,
   "metadata": {},
   "outputs": [
    {
     "name": "stdout",
     "output_type": "stream",
     "text": [
      "\n",
      "Local minimum occurs where:\n",
      "theta_0 = 3.2446002498628124\n",
      "theta_1 = 2.01100600474393\n",
      "theta_2 = -3.985609947676734\n"
     ]
    }
   ],
   "source": [
    "w=np.zeros(x.shape[1]) #weight matrix\n",
    "n_k = 0.001 # step size\n",
    "\n",
    "s_k = np.array([float(\"inf\"),float(\"inf\"),float(\"inf\")])\n",
    "\n",
    "num_steps=400\n",
    "for j in range(num_steps):\n",
    "    for i in range(m):\n",
    "        s_k[0] = (f(w[0],w[1],w[2],x[i])-y[i])\n",
    "        s_k[1] = (f(w[0],w[1],w[2],x[i])-y[i])*x[:,1][i]\n",
    "        s_k[2] = (f(w[0],w[1],w[2],x[i])-y[i])*x[:,2][i]\n",
    "        \n",
    "        s_k = (-1)*s_k\n",
    "        \n",
    "        w = w + n_k * s_k  \n",
    "            \n",
    "print(\"\\nLocal minimum occurs where:\")\n",
    "print(\"theta_0 =\", w[0])\n",
    "print(\"theta_1 =\", w[1])\n",
    "print(\"theta_2 =\", w[2])"
   ]
  },
  {
   "cell_type": "markdown",
   "metadata": {},
   "source": [
    "As you can see, our values for $\\theta_0$, $\\theta_1$ and $\\theta_2$ are close to their true values."
   ]
  },
  {
   "cell_type": "markdown",
   "metadata": {},
   "source": [
    "## Mini-Batch Gradient Descent (MB-GD)"
   ]
  },
  {
   "cell_type": "markdown",
   "metadata": {},
   "source": [
    "Mini-Batch Gradient Descent (MB-GD) a compromise between batch GD and SGD. In MB-GD, we update the model based on smaller groups of training samples; instead of computing the gradient from 1 sample (SGD) or all n training samples (GD), we compute the gradient from 1<k<n training samples (a common mini-batch size is k=50).\n",
    "\n",
    "MB-GD converges in fewer iterations than GD because we update the weights more frequently; however, MB-GD let's us utilize vectorized operation, which typically results in a computational performance gain over SGD."
   ]
  },
  {
   "cell_type": "markdown",
   "metadata": {},
   "source": [
    "## Other Optimisation Strategies (other than Gradient Descent)"
   ]
  },
  {
   "cell_type": "markdown",
   "metadata": {},
   "source": [
    "### Brent's method for optimisation. \n",
    "\n",
    "Brent's method does not require the function to optimize to be convex or derivable everywhere, and works as a combination of the secant method and parabola fittings, as follows:\n",
    "1. Take a, b such that f'(a) < 0 and f'(b) > 0\n",
    "2. Repeat:\n",
    "  * Compute c = (a+b)/2\n",
    "  * Compute the point d where the parabola that goes through a, b and c is minimal\n",
    "  * If f'(d) < 10^{-sthg}: stop\n",
    "  * Otherwise if f'(d) < 0: replace a with d, otherwise: replace b with d.\n",
    "\n",
    "<img src=\"../images/brent.png\" width=\"600\"/>\n",
    "\n",
    "Illustration's source: Press, W. H., et al. (1992) \"Numerical Recipes in Fortran, The Art of Scientific Computing\", Cambridge University Press, Chapter 10."
   ]
  },
  {
   "cell_type": "markdown",
   "metadata": {},
   "source": [
    "To illustrate the above, we begin by defining a function to optimise:\n",
    "$$J(x) = (x - 1)^4 + x^2$$"
   ]
  },
  {
   "cell_type": "code",
   "execution_count": 23,
   "metadata": {},
   "outputs": [
    {
     "name": "stdout",
     "output_type": "stream",
     "text": [
      "xmin: 0.41, fval: 0.29, iter: 12\n"
     ]
    }
   ],
   "source": [
    "from scipy.optimize import minimize_scalar\n",
    "\n",
    "# specify objective/cost function\n",
    "J = lambda x : (x - 1) ** 4 + x ** 2\n",
    "\n",
    "res = minimize_scalar(J, method='brent')\n",
    "print('xmin: %.02f, fval: %.02f, iter: %d' % (res.x, res.fun, res.nit))"
   ]
  },
  {
   "cell_type": "code",
   "execution_count": 25,
   "metadata": {},
   "outputs": [
    {
     "data": {
      "text/plain": [
       "<matplotlib.legend.Legend at 0x1248acac8>"
      ]
     },
     "execution_count": 25,
     "metadata": {},
     "output_type": "execute_result"
    },
    {
     "data": {
      "image/png": "[encoded data removed]",
      "text/plain": [
       "<Figure size 432x288 with 1 Axes>"
      ]
     },
     "metadata": {
      "needs_background": "light"
     },
     "output_type": "display_data"
    }
   ],
   "source": [
    "# plot curve\n",
    "x = np.linspace(res.x - 0.5, res.x + 0.5, 100)\n",
    "y = [J(val) for val in x]\n",
    "plt.plot(x, y, color='blue', label='f1')\n",
    "\n",
    "# plot optima\n",
    "plt.scatter(res.x, res.fun, color='orange', marker='x', label='opt')\n",
    "\n",
    "plt.grid()\n",
    "plt.legend(loc=1)"
   ]
  },
  {
   "cell_type": "markdown",
   "metadata": {},
   "source": [
    "### First and second-order characterizations"
   ]
  },
  {
   "cell_type": "markdown",
   "metadata": {},
   "source": [
    "A twice-differentiable convex function has a positive semi-definite Hessian $\\mathbf{x} \\mapsto \\nabla^2 f(\\mathbf{x})$ and is minimized where the gradient $\\mathbf{x} \\mapsto \\nabla f(\\mathbf{x})$ is equal to 0."
   ]
  },
  {
   "cell_type": "markdown",
   "metadata": {},
   "source": [
    "### Newton's Method\n",
    "\n",
    "Newton's method is a second order method, minimising a quadratic Taylor approximation to the objective function at each point. It thus combines the gradient and Hessian matrix,\n",
    "\n",
    "$$\\mathbf{x}_{k+1} = \\mathbf{x}_{k} -\\alpha\\mathbf{H}_k^{-1}\\mathbf{g}_k$$\n",
    "\n",
    "where $\\mathbf{g}_k = \\nabla f(\\mathbf{x_k})$ and $\\mathbf{H}_k = \\nabla^2 f(\\mathbf{x_k})$. This is a multi-dimensional generalisation of the Newton root-finding method (here we are finding the root of the gradient). Newton's method typically involves a line search to optimise the size of the descent step, $\\alpha$."
   ]
  },
  {
   "cell_type": "markdown",
   "metadata": {},
   "source": [
    "Newton's method uses a line search to optimise each descent step by choosing a step size $\\alpha$ that optimises the descent direction, that is, $$\\min_\\alpha f(\\mathbf{x_k} + \\alpha \\mathbf{d}_k),$$ where $\\mathbf{d}_k = \\nabla f({\\mathbf{x}_k})$ is the descent direction."
   ]
  },
  {
   "cell_type": "markdown",
   "metadata": {},
   "source": [
    "### Conjugate gradient method\n",
    "\n",
    "The [conjugate gradient method](https://en.wikipedia.org/wiki/Conjugate_gradient_method) is an alternative to gradient descent. For a linear system $\\mathbf{A}\\mathbf{x} = \\mathbf{b}$, this algorithm finds a solution as a linear combination of a set of *mutually conjugate vectors*, $\\mathbf{p}_d$, such that,\n",
    "\n",
    "$$\\mathbf{x}^* = \\sum_{d=1}^D \\alpha_d\\mathbf{p}_d$$ for the $D$ dimensions of the problem. The vectors are built determined one by one in a process similar to the [Gram Schmidt process](https://en.wikipedia.org/wiki/Gram%E2%80%93Schmidt_process). Particularly for a sparse system, a good approximate solution can be determined without constructing the entire conjugate set."
   ]
  },
  {
   "cell_type": "code",
   "execution_count": null,
   "metadata": {},
   "outputs": [],
   "source": []
  },
  {
   "cell_type": "code",
   "execution_count": null,
   "metadata": {},
   "outputs": [],
   "source": []
  }
 ],
 "metadata": {
  "kernelspec": {
   "display_name": "Python 3",
   "language": "python",
   "name": "python3"
  },
  "language_info": {
   "codemirror_mode": {
    "name": "ipython",
    "version": 3
   },
   "file_extension": ".py",
   "mimetype": "text/x-python",
   "name": "python",
   "nbconvert_exporter": "python",
   "pygments_lexer": "ipython3",
   "version": "3.6.7"
  }
 },
 "nbformat": 4,
 "nbformat_minor": 2
}
