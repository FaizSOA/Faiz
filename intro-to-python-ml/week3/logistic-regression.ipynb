{
 "cells": [
  {
   "cell_type": "markdown",
   "metadata": {},
   "source": [
    "# Logistic Regression"
   ]
  },
  {
   "cell_type": "markdown",
   "metadata": {},
   "source": [
    "- Logistic regression is a classification algorithm, don’t confuse with the name regression. \n",
    "- Logistic Regression is basically Supervised ML algorithm that is used for __binary classification__\n",
    "- In classification problem the values we predict take on only a small number of discrete values. For example, \"yes or no\", \"cat or dog\", \"cat or dog or bird\", etc.\n",
    "- In logistic regression we estimate the probability of a certain discrete value.\n",
    "- Our main goal is to __predict the probability of the discrete class labels__\n",
    "\n",
    "Some examples of classification problems:\n",
    "1. Spam detection\n",
    "2. Detection of fraudulent transanctions\n",
    "3. Malignant/Benign tumor"
   ]
  },
  {
   "cell_type": "markdown",
   "metadata": {},
   "source": [
    "__Assumption of Logistic Regression:__ \n",
    "\n",
    "* Input space can be __separated into two nice ‘regions’, one for each class, by a defined boundary.__\n",
    "\n",
    "\n",
    "\n",
    "* Your data must be **linearly** separable in __n dimensions__"
   ]
  },
  {
   "cell_type": "markdown",
   "metadata": {},
   "source": [
    "<img src=\"../images/Image_1_7.png\" align=\"middle\" alt=\"Image_1_7\" data-canonical-src=\"\" style=\"width:40%;height:40%\">"
   ]
  },
  {
   "cell_type": "markdown",
   "metadata": {},
   "source": [
    "### Hypothesis for classification problem"
   ]
  },
  {
   "cell_type": "markdown",
   "metadata": {},
   "source": [
    "In classification problem we want the probability of the outcomes. So we would like f(x) to be between 0 and 1."
   ]
  },
  {
   "cell_type": "markdown",
   "metadata": {},
   "source": [
    "\\begin{equation}\n",
    "0 \n",
    "\\leq \n",
    "f_\\theta(x) \n",
    "\\leq \n",
    "1\n",
    "\\end{equation}"
   ]
  },
  {
   "cell_type": "markdown",
   "metadata": {},
   "source": [
    "* Mathematically, in Linear Regression __hypothesis function $f_{\\theta}(x)$ can be >1 or <0__\n",
    "\n",
    "\n",
    "* For Logistic Regression we need __hypothesis function which can satisfy the math rule:__ $0 \\leq f_{\\theta}(x)\\leq 1$"
   ]
  },
  {
   "cell_type": "markdown",
   "metadata": {},
   "source": [
    "### Intuitive Example to understand math behind LoR"
   ]
  },
  {
   "cell_type": "markdown",
   "metadata": {},
   "source": [
    "__Example / Problem statement: __\n",
    "\n",
    "* We are provided a sample of 100 customers. \n",
    "\n",
    "\n",
    "* We need to predict the probability whether a customer will buy (y) a particular magazine or not based on their \n",
    "  age\n",
    "\n",
    "\n",
    "* As you can see, we’ve a categorical outcome variable, we’ll use logistic regression."
   ]
  },
  {
   "cell_type": "markdown",
   "metadata": {},
   "source": [
    "#### Step 1:"
   ]
  },
  {
   "cell_type": "markdown",
   "metadata": {},
   "source": [
    "To start with logistic regression, I’ll first write the simple linear regression equation with dependent variable\n",
    "\n",
    "$$ \\large f_{\\theta}(x) = mx + C ------ (1) $$"
   ]
  },
  {
   "cell_type": "markdown",
   "metadata": {},
   "source": [
    "#### Step 2:"
   ]
  },
  {
   "cell_type": "markdown",
   "metadata": {},
   "source": [
    "So, final equation form based on our example will be\n",
    "\n",
    "$$ \\large f(readers\\;will\\;buy\\; magazine\\; or\\; not) = m * x_{age} + C ------(2)$$\n",
    "\n",
    "\n",
    "* Now consider Y as function of probability. Why? because we need the chance (probability of the whether buyer will buy the magazine or not)\n",
    "\n",
    "\n",
    "* This function is established using two things: \n",
    "  * Probability of Success(p) means reader buys magazine \n",
    "  * Probability of Failure(1-p) means reader doesn't buy magazine.\n",
    "  \n",
    "* Probability p should meet following criteria:\n",
    "    1. It must always be positive (since p >= 0)\n",
    "    2. It must always be less than equals to 1 (since p <= 1)\n",
    " \n"
   ]
  },
  {
   "cell_type": "markdown",
   "metadata": {},
   "source": [
    "#### Step 3:"
   ]
  },
  {
   "cell_type": "markdown",
   "metadata": {},
   "source": [
    "__Since probability must always be positive, we’ll put the linear equation in exponential form.__\n",
    "\n",
    "<img src=\"../images/graph_ex.png\" align=\"middle\" alt=\"Image_1_7\" data-canonical-src=\"\" style=\"width:70%;height:40%\">\n",
    "\n",
    "For any value of slope and dependent variable, exponent of this equation will never be negative.\n",
    "\n",
    "\n",
    "$$ \\large f_{\\theta}(x) = exp(C + mx_{Age}) = e^{(C + mx_{Age})}    ------- (3) $$ \n",
    "\n",
    "Here,\n",
    "\n",
    "* P  =  Probability of readers' buy magazine or not\n",
    "* exp OR e =  exponential symbol OR Euler's number.\n"
   ]
  },
  {
   "cell_type": "markdown",
   "metadata": {},
   "source": [
    "#### Step 4:"
   ]
  },
  {
   "cell_type": "markdown",
   "metadata": {},
   "source": [
    "To make the probability less than 1, we must divide p by a number greater than p. This can simply be done by:\n",
    "\n",
    "$$ \\large f_{\\theta}(x)  =  \\frac{exp(C + mx_{Age})}{exp(C + mx_{Age}) + 1}   =  \\frac{ e^{(C + mx_{Age})}}{e^{(C + mx_{Age})} + 1 } = p  ----- (4)$$"
   ]
  },
  {
   "cell_type": "markdown",
   "metadata": {},
   "source": [
    "#### Step 5:"
   ]
  },
  {
   "cell_type": "markdown",
   "metadata": {},
   "source": [
    "Now by using equation 1, 2, 3 and 4 we can redefine the probability as:\n",
    "\n",
    " $$ p = \\frac {e^{g}}{ 1 + e^{g}} ----- (5)$$ \n",
    " \n",
    " where $ g_{\\theta}(x) = mx + C = Decision\\_boundary $\n",
    " \n",
    " * Here we have just __substitute the C + mx{Age} with Y__\n",
    " \n",
    " \n",
    " * Here p is the probability of success. This __Equation (5) is the Logit Function__\n",
    "\n",
    "```\n",
    "\n",
    "```\n",
    "\n",
    "\n",
    "If p is the probability of success, 1-p will be the probability of failure which can be written as:\n",
    "\n",
    "$$q = 1 - p = 1 - \\frac {e^{g}}{ 1 + e^{g}}    --- (6)$$\n",
    "\n",
    "* Here q is the probability of failure"
   ]
  },
  {
   "cell_type": "markdown",
   "metadata": {},
   "source": [
    "#### Step 6:"
   ]
  },
  {
   "cell_type": "markdown",
   "metadata": {},
   "source": [
    "Now let's __divide the equation 5 and 6__ so that we get following equation\n",
    "\n",
    "\n",
    "$$ \\frac {p}{1-p} = e^{g}    --- (7)$$"
   ]
  },
  {
   "cell_type": "markdown",
   "metadata": {},
   "source": [
    "#### Step 7: "
   ]
  },
  {
   "cell_type": "markdown",
   "metadata": {},
   "source": [
    "After __taking log on both side__, So that we can get the value of Y\n",
    "\n",
    "$$ \\large log(\\frac{p}{1-p}) = g_\\theta(x)    --- (8) $$\n",
    "\n",
    "Now, let's __put the value of Y in equation 8 from equation 2__\n",
    "\n",
    "$$ \\large log(\\frac{p}{1-p}) = C + mx_{Age}   --- (9) $$\n"
   ]
  },
  {
   "cell_type": "markdown",
   "metadata": {},
   "source": [
    "#### Notes: \n",
    "\n",
    "* The __equation 9 is used in Logistic Regression and It is called Logit(p). __\n",
    "\n",
    "\n",
    "* Here __(p/1-p) is called the Odd Ratio (OR) or Odds(p)__\n",
    "\n",
    "\n",
    "* Whenever the __log of Odd Ratio is found to be positive, then the probability of success is always more than \n",
    "  50%.__\n",
    "\n",
    "\n",
    "* You can see __probability never goes below 0 and above 1. __\n",
    "\n",
    "<img src=\"../images/graph_logx.png\" align=\"middle\" alt=\"Image_1_7\" data-canonical-src=\"\" style=\"width:70%;height:40%\">"
   ]
  },
  {
   "cell_type": "markdown",
   "metadata": {},
   "source": [
    "### Why we take odds instead of probabilities?"
   ]
  },
  {
   "cell_type": "markdown",
   "metadata": {},
   "source": [
    "\n",
    "Let $P(X)$ denote the probability of an event X occurring. In that case, the __odds ratio (OR(X))__ is defined as\n",
    "\n",
    "$$ \\large \\frac{P(X)}{1-P(X)}$$\n",
    "\n",
    "* It is essentially the ratio of the probability of the event happening, vs. it not happening.\n",
    "\n",
    "\n",
    "* It is clear that __probability and odds__ convey the __exact same information.__ \n",
    "\n",
    "\n",
    "* __But as $P(X)$ goes from 0 to 1, OR(X) goes from 0 to infinity__\n",
    "\n",
    "\n",
    "* The advantage is that the __odds defined on 0 to infinity__ which map to __log-odds on -infinity to +infinity__\n",
    "\n",
    "\n",
    "\n",
    "\n",
    "\n",
    "\n",
    "\n",
    "\n"
   ]
  },
  {
   "cell_type": "markdown",
   "metadata": {},
   "source": [
    "#### Sigmoid function "
   ]
  },
  {
   "cell_type": "markdown",
   "metadata": {},
   "source": [
    "We will now see how we arrive at the sigmoid function, starting form the log_odds function: \n",
    "\n",
    "$log(\\frac{y}{1-y}) = g_\\theta(x) = \\theta^TX$\n",
    "\n",
    "<br>$y = (1-y)*e^{\\theta^TX}$\n",
    "\n",
    "<br>$y = e^x - y*e^{\\theta^TX}$\n",
    "\n",
    "<br>$y + ye^x = e^{\\theta^TX}$\n",
    "\n",
    "<br>$y*(1 + e^{\\theta^TX}) = e^{\\theta^TX}$\n",
    "\n",
    "<br>$y = \\frac{e^{\\theta^TX}}{1+e^{\\theta^TX}}$\n",
    "\n",
    "<br>$y = \\frac{1}{\\frac{1}{e^{\\theta^TX}} + 1}$\n",
    "\n",
    "<br>$y = \\frac{1}{1 + e^{-\\theta^TX}}$\n",
    "\n",
    "\n",
    "Finally, the Sigmoid function, as derived above, is given below:"
   ]
  },
  {
   "cell_type": "markdown",
   "metadata": {},
   "source": [
    "$$\\sigma(x)=\\frac{1}{1+e^{-x}}$$\n",
    "\n",
    "Sigmoid function is used to restrict the f(x) between 0 and 1. <br>\n",
    "**Remark:** The derivative of logistic function can be written $\\text{d}\\sigma = \\sigma (1-\\sigma)$."
   ]
  },
  {
   "cell_type": "code",
   "execution_count": 68,
   "metadata": {},
   "outputs": [
    {
     "data": {
      "image/png": "[encoded data removed]",
      "text/plain": [
       "<Figure size 432x288 with 1 Axes>"
      ]
     },
     "metadata": {
      "needs_background": "light"
     },
     "output_type": "display_data"
    }
   ],
   "source": [
    "'''Explore the signature of sigmoid function'''\n",
    "import numpy as np\n",
    "import matplotlib.pyplot as plt\n",
    "import math\n",
    "%matplotlib inline\n",
    "\n",
    "sigmoid = lambda x: 1/(1 + np.exp(-x))\n",
    "x = np.linspace(-10,10,100)\n",
    "\n",
    "plt.plot(x, sigmoid(x), 'o')\n",
    "\n",
    "# Draw the grid line in background.\n",
    "plt.grid()\n",
    "\n",
    "# Title & Subtitle\n",
    "plt.title('Sigmoid function')\n",
    "\n",
    "# write the Sigmoid formula\n",
    "plt.text(4, 0.8, r'$\\sigma(x)=\\frac{1}{1+e^{-x}}$', fontsize=15)\n",
    "\n",
    "plt.show()"
   ]
  },
  {
   "cell_type": "markdown",
   "metadata": {},
   "source": [
    "### Why do we need sigmoid function?"
   ]
  },
  {
   "cell_type": "markdown",
   "metadata": {},
   "source": [
    "\n",
    "* This function will give us the __output value between [0,1]__\n",
    "\n",
    "  \n",
    "\n",
    "\n",
    "* When you __perform derivative of $e^{x}$ it gives you back $e^{x}$ and this function is the only known \n",
    "  differentiable function with this mathematical property. That makes it more convenient for calculation.__\n"
   ]
  },
  {
   "cell_type": "markdown",
   "metadata": {},
   "source": [
    "## Cost functions for Logistic Regression"
   ]
  },
  {
   "cell_type": "markdown",
   "metadata": {},
   "source": [
    "#### Can we directly use cost function of linear regression which is Sum of sequared Errors?\n",
    "\n",
    "* The Answer is __No, we can't__ \n",
    "\n",
    "* Linear regression uses mean squared error as its cost function. If this is used for logistic regression, then it \n",
    "  will be generate a non-convex function of our input intercept values or parameter (theta) values\n",
    "      \n",
    "* Gradient Descent will converge into global minimum for function that is convex.\n",
    "\n",
    "<img src=\"../images/Image_1_8.png\" align=\"middle\" alt=\"Image_1_8\" data-canonical-src=\"\" style=\"width:80%;height:80%\">"
   ]
  },
  {
   "cell_type": "markdown",
   "metadata": {},
   "source": [
    "## Cost function for a value of f(x):\n",
    "\n",
    "$$ \\large \\text{Cost function} (f_{\\theta}(x))  = \\begin{cases}\n",
    "  -\\log(f_{\\theta}(x)) & \\text{if $y = 1$} \\\\\n",
    "  -\\log(1\\; -\\; f_{\\theta}(x) ) & \\text{if $y = 0$}\n",
    "\\end{cases}$$\n",
    "\n",
    "<img src=\"../images/Image_1_9.png\" align=\"middle\" alt=\"Image_1_9\" data-canonical-src=\"\" style=\"width:80%;height:80%\">"
   ]
  },
  {
   "cell_type": "markdown",
   "metadata": {},
   "source": [
    "$$ \\text{Cost function for entire data set with m observation} = J(\\theta) = \\frac{1}{m} \\sum_{i=1}^{m} \\text{Cost function} (f_{\\theta}(x^{i},y^{i})) $$"
   ]
  },
  {
   "cell_type": "markdown",
   "metadata": {},
   "source": [
    "### Combine both cases of Cost function in one equation\n",
    "\n",
    "$$ \\large \\text{Cost function} (f_{\\theta}(x),y)  = \n",
    "  -y\\log(f_{\\theta}(x))-(1-y)\\log(1\\; -\\; f_{\\theta}(x) )\n",
    "$$"
   ]
  },
  {
   "cell_type": "code",
   "execution_count": 2,
   "metadata": {},
   "outputs": [
    {
     "data": {
      "image/png": "[encoded data removed]",
      "text/plain": [
       "<Figure size 432x288 with 1 Axes>"
      ]
     },
     "metadata": {
      "needs_background": "light"
     },
     "output_type": "display_data"
    }
   ],
   "source": [
    "'''Explore the signature of sigmoid function'''\n",
    "import numpy as np\n",
    "import matplotlib.pyplot as plt\n",
    "import math\n",
    "%matplotlib inline\n",
    "\n",
    "sigmoid = lambda x: 1/(1 + np.exp(-x))\n",
    "x = np.linspace(-10,10,100)\n",
    "\n",
    "plt.plot(x, [-math.log(x)-math.log(1-x) for x in sigmoid(x)], 'o')\n",
    "\n",
    "# Draw the grid line in background.\n",
    "plt.grid()\n",
    "\n",
    "# Title & Subtitle\n",
    "plt.title('Loss function for Logistic Regression')\n",
    "\n",
    "# write the Loss formula\n",
    "plt.text(-8, 9.5, r'$ -y\\log(f_{\\theta}(x))-(1-y)\\log(1\\; -\\; f_{\\theta}(x) )$', fontsize=15)\n",
    "\n",
    "plt.show()"
   ]
  },
  {
   "cell_type": "markdown",
   "metadata": {},
   "source": [
    "$$\\large J(\\theta) = - \\frac{1}{m}\\sum_{i=1}^{m}[y^{(i)}\\log(f_{\\theta}(x^{(i)}) + (1-y^{(i)})\\log(1-f_{\\theta}(x^{(i)}))]$$"
   ]
  },
  {
   "cell_type": "markdown",
   "metadata": {},
   "source": [
    "__Now we need to minimize this cost function $J(\\theta)$__"
   ]
  },
  {
   "cell_type": "markdown",
   "metadata": {},
   "source": [
    "### Gradient Descent "
   ]
  },
  {
   "cell_type": "markdown",
   "metadata": {},
   "source": [
    "* In order to minimize the cost function we need to derive its __partial derivative with respect to $\\theta$__"
   ]
  },
  {
   "cell_type": "markdown",
   "metadata": {},
   "source": [
    "$$\\large J(\\theta) = - \\frac{1}{m}\\sum_{i=1}^{m}[y^{(i)}\\log(\\frac{1}{1+e^{-\\theta x^{(i)}}}) + (1-y^{(i)})\\log(1-\\frac{1}{1+e^{-\\theta x^{(i)}}})]$$"
   ]
  },
  {
   "cell_type": "markdown",
   "metadata": {},
   "source": [
    "__Partial derivate that we use for updating our cost function or minimize our error function is given below__"
   ]
  },
  {
   "cell_type": "markdown",
   "metadata": {},
   "source": [
    "$$\\large \\frac{\\partial J}{\\partial \\theta}  = \\frac{1}{m}\\sum_{i=1}^{m}[x^{(i)}_{j}f_{\\theta}(x^{(i)}) - y^{(i)}x^{(i)}_{j}]$$"
   ]
  },
  {
   "cell_type": "markdown",
   "metadata": {},
   "source": [
    "#### Final Gradient descent equation is as below"
   ]
  },
  {
   "cell_type": "markdown",
   "metadata": {},
   "source": [
    "__Repeat this until we get $min_{\\theta}J(\\theta)$:__\n",
    "\n",
    "        {\n",
    "\n",
    "$$ \\large \\theta_{j} := \\theta_{j} -\\alpha \\sum_{i=0}^{m}[x^{(i)}_{j}f_{\\theta}(x^{(i)}) - y^{(i)}x^{(i)}_{j}] $$\n",
    "\n",
    "        }\n",
    "        \n",
    "\n",
    "__Here $\\alpha$ is Learning Rate __"
   ]
  },
  {
   "cell_type": "markdown",
   "metadata": {},
   "source": [
    "### Comparing Classification & Regression"
   ]
  },
  {
   "cell_type": "markdown",
   "metadata": {},
   "source": [
    "<img src=\"../images/Image_1_10.png\" align=\"middle\" alt=\"Image_1_10\" data-canonical-src=\"\" style=\"width:60%;height:60%\">"
   ]
  },
  {
   "cell_type": "markdown",
   "metadata": {},
   "source": [
    "|Properties| Supervised Classification (Logistic Regression) | Regression (Linear Regression)|\n",
    "|:---:|:---: |:---:|\n",
    "|  Output Type | Discrete Value (Class labels) | Continuous (number) |\n",
    "|  What are you trying to achieve? | Decision Boundary or How to choose value for parameters theta | Best line of fit |\n",
    "|  Evaluation | Accuracy | Sum of Sequared Error or $r^{2} Error$|"
   ]
  },
  {
   "cell_type": "markdown",
   "metadata": {},
   "source": [
    "### Intution of logistic regression\n",
    "\n",
    "Its about finding the decision boundary."
   ]
  },
  {
   "cell_type": "markdown",
   "metadata": {},
   "source": [
    "#### Scenario 1"
   ]
  },
  {
   "cell_type": "code",
   "execution_count": 3,
   "metadata": {},
   "outputs": [
    {
     "data": {
      "image/png": "[encoded data removed]",
      "text/plain": [
       "<Figure size 432x288 with 1 Axes>"
      ]
     },
     "metadata": {
      "needs_background": "light"
     },
     "output_type": "display_data"
    }
   ],
   "source": [
    "import matplotlib.pyplot as plt\n",
    "x1 = np.random.randn(100)\n",
    "y1 = np.random.randn(100) \n",
    "x2 = np.random.randn(100)\n",
    "y2 = np.random.randn(100) + 6\n",
    "plt.plot(x1, y1, \"+\", x2, y2, \"x\")\n",
    "plt.axis('equal')\n",
    "plt.show()"
   ]
  },
  {
   "cell_type": "markdown",
   "metadata": {},
   "source": [
    "#### Scenario 2"
   ]
  },
  {
   "cell_type": "code",
   "execution_count": 4,
   "metadata": {},
   "outputs": [
    {
     "data": {
      "image/png": "[encoded data removed]",
      "text/plain": [
       "<Figure size 432x288 with 1 Axes>"
      ]
     },
     "metadata": {
      "needs_background": "light"
     },
     "output_type": "display_data"
    }
   ],
   "source": [
    "x1 = np.random.randn(100)\n",
    "y1 = np.random.randn(100) + 3\n",
    "x2 = np.random.randn(100) + 3\n",
    "y2 = np.random.randn(100)\n",
    "plt.plot(x1, y1, \"+\", x2, y2, \"x\")\n",
    "plt.axis('equal')\n",
    "plt.show()"
   ]
  },
  {
   "cell_type": "markdown",
   "metadata": {},
   "source": [
    "#### Scenario 3"
   ]
  },
  {
   "cell_type": "code",
   "execution_count": 5,
   "metadata": {},
   "outputs": [
    {
     "data": {
      "image/png": "[encoded data removed]",
      "text/plain": [
       "<Figure size 432x288 with 1 Axes>"
      ]
     },
     "metadata": {
      "needs_background": "light"
     },
     "output_type": "display_data"
    }
   ],
   "source": [
    "x1 = np.random.randn(100)\n",
    "y1 = np.random.randn(100) \n",
    "x3 = np.random.randn(25) + 3\n",
    "y3 = np.random.randn(25)\n",
    "x4 = np.random.randn(25) - 3\n",
    "y4 = np.random.randn(25)\n",
    "x5 = np.random.randn(25)\n",
    "y5 = np.random.randn(25) + 3\n",
    "x6 = np.random.randn(25) \n",
    "y6 = np.random.randn(25) - 3\n",
    "x3 = np.append(x3 , x5)\n",
    "y3 = np.append(y3, y5)\n",
    "x4 = np.append(x4, x6)\n",
    "y4 = np.append(y4, y6)\n",
    "x2 = np.append(x3, x4)\n",
    "y2 = np.append(y3, y4)\n",
    "#x2 = np.append(x3, x6)\n",
    "#y2 = np.append(y2 , y6)\n",
    "plt.plot(x1, y1, \"+\", x2, y2, \"x\")\n",
    "plt.axis('equal')\n",
    "plt.show()"
   ]
  }
 ],
 "metadata": {
  "kernelspec": {
   "display_name": "Python 3",
   "language": "python",
   "name": "python3"
  },
  "language_info": {
   "codemirror_mode": {
    "name": "ipython",
    "version": 3
   },
   "file_extension": ".py",
   "mimetype": "text/x-python",
   "name": "python",
   "nbconvert_exporter": "python",
   "pygments_lexer": "ipython3",
   "version": "3.6.7"
  }
 },
 "nbformat": 4,
 "nbformat_minor": 2
}
