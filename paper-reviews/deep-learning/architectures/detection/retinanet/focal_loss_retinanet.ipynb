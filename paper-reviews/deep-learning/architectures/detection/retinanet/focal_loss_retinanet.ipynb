{
 "cells": [
  {
   "cell_type": "markdown",
   "metadata": {},
   "source": [
    "In this post, we review the paper **\"Focal Loss for Dense Object Detection\"**, and focus on explaining **\"focal loss\"** to readers, as introduced in the paper.\n",
    "\n",
    "<center><img src=\"./images/imbalance.jpeg\" width=\"300\"/></center>"
   ]
  },
  {
   "cell_type": "markdown",
   "metadata": {},
   "source": [
    "## General introduction to Object detection:\n",
    "\n",
    "As of the currect state, Object detection algorithms can be divided into two categories: \n",
    " - one-state detectors and \n",
    " - two-stage detectors. \n",
    "\n",
    "Let us understand the two algorithms in brief: \n",
    "\n",
    "### Two-stage detectors (like R-CNN, Faster R-CNN, FPN, Mask R-CNN):\n",
    "\n",
    "- They are applied to a sparse set of candidate object locations. \n",
    "- the two stages are:\n",
    "\n",
    "    - **The Proposal Stage (Stage 1):**  generate candidate object locations for detection by select search or regional proposal network. In this stage, most of the background samples are filtered out, generating a small number of candidate object locations (e.g., 1-2k). As a result we get a sparse set of candidate locations as the ouput from this stage.\n",
    "    \n",
    "    - **The Classification Stage (Stage 2):** classify only the candidate locations as one of the foreground classes or as background using a convolutional neural network.\n",
    "\n",
    "The diagram below shows the 2-stage detection process:\n",
    "<center><img src=\"./images/two_stage.jpeg\" width=\"600\"/></center>\n",
    "\n",
    "- Owing to the spare set of candidates, the accuracy is high but speed is low due to the two-stage operation.\n",
    " \n",
    "\n",
    "### One-stage detectors (like SSD, YOLO):\n",
    "\n",
    "- They skip regional proposal and classification is directly applied over a dense sampling of possible object locations. This one stage proces makes them simpler and faster.\n",
    "\n",
    "The diagram below shows the 1-stage detection process:\n",
    "<center><img src=\"./images/one_stage.jpeg\" width=\"500\"/></center>\n",
    "\n",
    "- **Extreme class imbalance:**: Such detectors, often end up with large number of bounding boxes in which no objects are present. This gives rise to an extreme imbalance between the foreground and the background class. For example in YOLO there may be several targets on each image. But the output of the last layer of YOLO V2 is $13 \\times 13 \\times 5$, which is $845$ candidate! A large number of (simple and easy to distinguish) negative samples occupy a large proportion in the loss, so that useful loss can not be returned.\n",
    "\n",
    "<center><img src=\"./images/one_stage_imb.png\" width=\"500\"/></center>\n",
    "\n",
    "- **How does class imbalance effect training?:** This class imbalance causes loss in accuracy. \n",
    "    - Consider a usual case in one-stage detectors, where we have 100 bounding boxes, among which 96 of them are negative samples, and 4 of them are positive samples. \n",
    "    - If the network predicts all samples as negative samples, the loss of the negative sample will be 0, the loss of the positive sample will be 1 and there are four positive samples,so, the loss value will be 4.\n",
    "    - After receiving the loss value, the network starts to adjust the parameters. After several rounds of training, the model now tags 98 samples as negative. Now 2 negative samples will have a loss value more than zero. This 2% gap is also the loss of the negative sample, assuming that 96 negative samples are lost by 2%, and the negative loss provided by the negative sample is 1.92. At this point, the positive sample has already done a good job, and the loss of the positive sample alone has dropped to 2.\n",
    "    - At this time, we found that the total loss we will return is 3.92. As the iterations continue, we see that the loss calculation is largely driven by the negative samples. As gradient descent would move in the direction of the larger loss value, the network would update unsatisfactorily.\n",
    "\n",
    "#### The authors of the present paper, try to address this class imbalance problem of one-stage object detectors and propose a solution for the same."
   ]
  },
  {
   "cell_type": "markdown",
   "metadata": {},
   "source": [
    "### A brief summary of the paper: \n",
    "\n",
    "**Problem:**\n",
    " - **one stage detectors** for object detection have been faster but **lower in accuracy** than two stage detectors. \n",
    "\n",
    "**Root cause:**\n",
    " - extreme foreground-background **class imbalance** encountered during training of one-stage detectors causes the low accuracy.\n",
    "\n",
    "**Solution:**\n",
    " - Introducing **Focal loss**, a dynamically scaled cross entropy loss, where the scaling factor decays to zero as confidence in the correct class increases. The new loss function down-weights the loss assigned to well-classified examples and _focuses_ training on a sparse set of hard examples, thereby preventing the vast number of easy negatives from overwhelming the detector during training."
   ]
  },
  {
   "cell_type": "markdown",
   "metadata": {},
   "source": [
    "## Characteristics of Focal loss:\n",
    "\n",
    "- Focal loss is mainly implemented to solve the imbalance of positive and negative samples in one-stage target detection. \n",
    "- down-weight easy examples .\n",
    "- focus training on hard negatives.\n",
    "- prevent large number of easy negatives from overwhelming the detector during training. \n",
    "- It can also be understood as an improved hard example mining for one-stage detectors."
   ]
  },
  {
   "cell_type": "markdown",
   "metadata": {},
   "source": [
    "## Explaining Focal loss and its importance\n",
    "\n",
    "Focal loss is invented as a replacement for Cross Entropy loss when training with highly imabalanced classes. First let us see the Cross Entropy loss function and understand the problem with it. Here, for simplicity we are considering only binary classification, however, even for multi-class cases the same logic will hold. \n",
    "\n",
    "The Cross Entropy (CE) loss function for binary classification is given as: \n",
    "\n",
    "$$\n",
    "\\large \\mathrm{CE(p,y)}=-\\mathrm{ylog(p)}-(1-y)\\log\\left(1-p\\right)=\\left\\{\\begin{array}{ll}{-\\log p} & {y=1} \\\\ {-\\log \\left(1-p\\right),} & {otherwise}\\end{array}\\right.\n",
    "$$\n",
    "\n",
    "Here $p$ gives the predicted probability for class 1, between 0-1. \n",
    "\n",
    "Now, to simplify the representation and keep the notation same as the original paper, let us define $p_t$ as:\n",
    "\n",
    "$$\n",
    "\\mathrm{p_t}=\\left\\{\\begin{array}{ll}{p} & {y=1} \\\\ {1-p,} & {otherwise}\\end{array}\\right.\n",
    "$$\n",
    "\n",
    "and so CE loss can be represented as:\n",
    "\n",
    "$$\n",
    "\\mathrm{CE(p,y)}=\\mathrm{CE(p_t)}=-\\mathrm{log(p_t)}\n",
    "$$\n",
    "\n",
    "Let us now explore the signature of CE loss to understand the problem that lies within:"
   ]
  },
  {
   "cell_type": "code",
   "execution_count": 37,
   "metadata": {},
   "outputs": [
    {
     "data": {
      "image/png": "[encoded data removed]",
      "text/plain": [
       "<Figure size 960x320 with 2 Axes>"
      ]
     },
     "metadata": {},
     "output_type": "display_data"
    }
   ],
   "source": [
    "'''Explore the signature of CE loss function'''\n",
    "import numpy as np\n",
    "import matplotlib.pyplot as plt\n",
    "import math\n",
    "%matplotlib inline\n",
    "\n",
    "sigmoid = lambda x: 1/(1 + np.exp(-x))\n",
    "x = np.linspace(-10,10,100)\n",
    "\n",
    "f = plt.figure(figsize=(12, 4), dpi= 80, facecolor='w', edgecolor='k')\n",
    "f.add_subplot(1,2, 1)\n",
    "plt.title('CE for y=1')\n",
    "plt.plot(sigmoid(x), [-math.log(x) for x in sigmoid(x)], 'o')\n",
    "plt.grid()\n",
    "plt.xlabel(\"predicted probability\")\n",
    "plt.ylabel(\"loss\")\n",
    "plt.text(0.4, 6, r'$ -log(p)$', fontsize=15)\n",
    "\n",
    "f.add_subplot(1,2, 2)\n",
    "plt.title('CE for y=0')\n",
    "plt.plot(sigmoid(x), [-math.log(1-x) for x in sigmoid(x)], 'o')\n",
    "plt.grid()\n",
    "plt.xlabel(\"predicted probability\")\n",
    "plt.ylabel(\"loss\")\n",
    "plt.text(0.3, 6, r'$ -\\log(1\\; -\\; p)$', fontsize=15);"
   ]
  },
  {
   "cell_type": "markdown",
   "metadata": {},
   "source": [
    "Two important things to note from the above figure are:\n",
    "\n",
    "- **Observation 1:** In case of positive samples (left figure), it can be seen that even for **easily classified positives** where $p >  0.5$, CE loss incurs a value even though low. The authors claim that _**\"when summed over a large number of easy examples, these small loss values can overwhelm the rare class.\"**_\n",
    "\n",
    "- **Observation 2:** In the case of a negative samples, for **easily classified negatives** where $p <  0.5$, CE loss incurs a value. The authors claim that _**\"these easily classified negatives comprise the majority of the loss and dominate the gradient\"**_"
   ]
  },
  {
   "cell_type": "markdown",
   "metadata": {},
   "source": [
    "### As a measure to overcome the probelms noticed in observation 1 and observation 2, authors have introduced **Focal Loss (FL).**\n",
    "\n",
    "Intuitively, Focal loss can be defined as:\n",
    "\n",
    "$$\n",
    "\\large \\mathrm{FL} =\\mathrm{CE} * \\text{modulating_factor}\n",
    "$$\n",
    "\n",
    "where: <br>\n",
    "1. **modulating factor, M** = $(1-p_t)^{\\gamma}$ and <br>\n",
    "2. **focusing parameter** = $\\gamma$. <br>\n",
    "\n",
    "Here  $\\gamma > 0$ and is a tunable. <br>\n",
    "\n",
    "The modulating factor can be represented as:\n",
    "\n",
    "$$\n",
    "\\mathrm{M}=\\left\\{\\begin{array}{ll}{(1-p)^{\\gamma}} & {y=1} \\\\ {p^{\\gamma}} & {otherwise}\\end{array}\\right.\n",
    "$$\n",
    "\n",
    "In compressed notation, FL can be written as:\n",
    "\n",
    "$$\n",
    "\\large \\mathrm{FL} =-\\log p_t * \\left(1-p_t\\right)^{\\gamma} \n",
    "$$\n",
    "\n",
    "The complete formula for FL is given as:\n",
    "\n",
    "$$\n",
    "\\mathrm{FL}= -y(1-p)^{\\gamma}log p - (1-y)p^{\\gamma}log(1-p)\n",
    "$$\n",
    "\n",
    "**However, it is to be noted that this precise form of focal loss is not cruical, but its only the property by which it down-weights easy examples.** Authors have shown that focal loss in other forms having the same property, will yield similar results. "
   ]
  },
  {
   "cell_type": "markdown",
   "metadata": {},
   "source": [
    "### Understanding the Focal loss equation:\n",
    "\n",
    "- Since $p_t$ has a range of [0,1], $(1-p_t)^{\\gamma}$ has a range of [0,1). As such always **M** < 1, ans so FL is always less than CE loss.\n",
    "- When an example is misclassified and $p_t$ is small, the modulating factor is near 1 and the loss is unaffected. - For **easy classified examples** as $p_t→1$, the modulating factor goes to 0 and the loss for well-classified examples is down-weighted. \n",
    "- The focusing parameter $\\gamma$ smoothly adjusts the rate at which easy examples are down-weighted. When $\\gamma = 0$, FL is equivalent to CE, and as $\\gamma$ is increased the effect of the modulating factor is likewise increased.\n",
    "\n",
    "<center><img src=\"images/pogtc.png\" width=\"600\"/></center>\n",
    "\n",
    "\n",
    "Intuitively, the modulating factor reduces the loss contribution from easy examples and extends the range in which an example receives low loss. Let us look at some examples with $\\gamma = 2$. \n",
    "\n",
    " - Case 1: An **easy classified positive** with $y=1$ and $p_t=0.9$. Here: <br>\n",
    "     - CE = -log(0.9) = 0.105 <br>\n",
    "     - M =  $(1-0.90)^2$ = 0.01 <br>\n",
    "     - FL = CE*M = 0.001 <br>\n",
    "   We see FL = 105% lower than CE loss \n",
    "\n",
    "\n",
    " - Case 2: An **easy classified positive** with $y=1$ and $p_t=0.98$. Here: <br>\n",
    "     - CE = -log(0.98) = 0.020 <br>\n",
    "     - M =  $(1-0.98)^2$ = 0.0004 <br>\n",
    "     - FL = CE*M = 0.000008 <br>\n",
    "   We see FL = 2500% lower than CE loss \n",
    "\n",
    "\n",
    " - Case 3: An **easy classified negative** with $y=0$ and $p_t=0.2$. Here: <br>\n",
    "     - CE = -log(1-0.2) = 0.223 <br>\n",
    "     - M =  $(0.2)^2$ = 0.04 <br>\n",
    "     - FL = CE*M = 0.00892 <br>\n",
    "   We see FL = 96% lower than CE loss \n",
    " \n",
    " \n",
    " - Case 4: A **hard negative** with $y=0$ and $p_t=0.8$. Here: <br>\n",
    "     - CE = -log(1-0.8) = 1.609  <br>\n",
    "     - M =  $(0.8)^2$ = 0.64 <br>\n",
    "     - FL = CE*M = 1.029 <br>\n",
    "   We see FL = 2.5% lower than CE loss\n",
    "   \n",
    "#### We see that for hard negatives the decrease in FL is very low as compared to CE. This in turn increases the importance of correcting misclassified examples (whose loss is scaled down by at most $4x$ for $p_t <= .5$ and $\\gamma =2$).\n",
    "\n",
    "The lambda adjusts the rate at which the weight of the simple sample decreases. When the lambda is 0, it is the cross entropy loss function. When the lambda increases, the influence of the adjustment factor increases. The experiment found that lambda is 2 is optimal."
   ]
  },
  {
   "cell_type": "markdown",
   "metadata": {},
   "source": [
    "### Balanced Focal Loss\n",
    "\n",
    "In addition, authors have also introduced an $\\alpha$ balanced variant of FL (lets call it $\\alpha-\\text{Focal loss}$). The balance factor is added to balance the uneven ratio of the positive and negative samples themselves:\n",
    "\n",
    "$$\n",
    "\\mathrm{FL}= -\\alpha_t \\left(1-p_t\\right)^{\\gamma} \\log p_t\n",
    "$$\n",
    "\n",
    "Here $\\alpha_t$ is defined analogously to $p_t$.\n",
    "\n",
    "It should be noted that adding alpha only balances the importance of positive and negative samples, and does not solve the problem of easy and hard samples."
   ]
  },
  {
   "cell_type": "markdown",
   "metadata": {},
   "source": [
    "## Focal loss used in Retinanet Training:"
   ]
  },
  {
   "cell_type": "markdown",
   "metadata": {},
   "source": [
    "The authors have used FL to train a new object detection architecture called **Retinanet.** It forms a single FCN comprised of a ResNet-FPN backbone, a classification subnet, and a box regression subnet.\n",
    "\n",
    "<center><img src=\"images/retinanet.png\" width=\"800\"/></center>\n",
    "\n",
    "Important points to note in Retinanet training are:\n",
    "\n",
    "- FL is used as the loss on the output of the classification subnet.\n",
    "\n",
    "- During training, the focal loss is applied to all ∼100k anchors in each sampled image. This stands in contrast to common practice of using heuristic sampling (RPN) or hard example mining (OHEM, SSD) to select a small set of anchors (e.g., 256) for each minibatch. \n",
    "\n",
    "- The total focal loss of an image is computed as the sum of the focal loss over all ∼100k anchors, normalized by the number of anchors assigned to a ground-truth box. The normalization is performed by the number of assigned anchors and not total anchors, since the vast majority of anchors are easy negatives and receive negligible loss values under the focal loss. \n",
    "\n",
    "- $\\alpha$ the weight assigned to the rare class, also has a stable range, but it interacts with $\\gamma$ making it necessary to select the two together. The range for $\\alpha$ is [0.25,0.75] and the range for $\\gamma$ is [0,5]\n",
    "\n",
    "- The authors got best results with $\\gamma=2$ and $\\alpha = 0.25$."
   ]
  }
 ],
 "metadata": {
  "kernelspec": {
   "display_name": "Python 3",
   "language": "python",
   "name": "python3"
  },
  "language_info": {
   "codemirror_mode": {
    "name": "ipython",
    "version": 3
   },
   "file_extension": ".py",
   "mimetype": "text/x-python",
   "name": "python",
   "nbconvert_exporter": "python",
   "pygments_lexer": "ipython3",
   "version": "3.6.7"
  }
 },
 "nbformat": 4,
 "nbformat_minor": 2
}
